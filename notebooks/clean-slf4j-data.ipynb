{
 "cells": [
  {
   "cell_type": "markdown",
   "id": "0b4243ce-c8c6-4ef8-abde-15877d3fda22",
   "metadata": {
    "tags": []
   },
   "source": [
    "# Clean SLF4J Data"
   ]
  },
  {
   "cell_type": "code",
   "execution_count": 1,
   "id": "54a80ecf-be9b-466f-bb83-7c3d3a3f5b11",
   "metadata": {},
   "outputs": [],
   "source": [
    "import numpy as np\n",
    "import pandas as pd\n",
    "import warnings"
   ]
  },
  {
   "cell_type": "markdown",
   "id": "8bac164d-9871-44c4-9239-adcc09e8a20f",
   "metadata": {},
   "source": [
    "## Load Dataframe"
   ]
  },
  {
   "cell_type": "code",
   "execution_count": 2,
   "id": "47814c48-b6d7-4dfc-9628-b4d4d6ceb670",
   "metadata": {},
   "outputs": [
    {
     "data": {
      "text/html": [
       "<div>\n",
       "<style scoped>\n",
       "    .dataframe tbody tr th:only-of-type {\n",
       "        vertical-align: middle;\n",
       "    }\n",
       "\n",
       "    .dataframe tbody tr th {\n",
       "        vertical-align: top;\n",
       "    }\n",
       "\n",
       "    .dataframe thead th {\n",
       "        text-align: right;\n",
       "    }\n",
       "</style>\n",
       "<table border=\"1\" class=\"dataframe\">\n",
       "  <thead>\n",
       "    <tr style=\"text-align: right;\">\n",
       "      <th></th>\n",
       "      <th>l1_group_id</th>\n",
       "      <th>l1_artifact_id</th>\n",
       "      <th>l1_version</th>\n",
       "      <th>l1_release_date</th>\n",
       "      <th>l2_group_id</th>\n",
       "      <th>l2_artifact_id</th>\n",
       "      <th>l2_version</th>\n",
       "      <th>l2_release_date</th>\n",
       "      <th>c1_group_id</th>\n",
       "      <th>c1_artifact_id</th>\n",
       "      <th>c1_version</th>\n",
       "      <th>c1_release_date</th>\n",
       "      <th>c2_group_id</th>\n",
       "      <th>c2_artifact_id</th>\n",
       "      <th>c2_version</th>\n",
       "      <th>c2_release_date</th>\n",
       "    </tr>\n",
       "  </thead>\n",
       "  <tbody>\n",
       "    <tr>\n",
       "      <th>0</th>\n",
       "      <td>org.slf4j</td>\n",
       "      <td>slf4j-api</td>\n",
       "      <td>1.6.1</td>\n",
       "      <td>2010-07-05T20:29:21Z[GMT]</td>\n",
       "      <td>org.slf4j</td>\n",
       "      <td>slf4j-api</td>\n",
       "      <td>1.6.2</td>\n",
       "      <td>2011-08-18T22:13:03Z[GMT]</td>\n",
       "      <td>cn.eova</td>\n",
       "      <td>eova</td>\n",
       "      <td>1.5.0</td>\n",
       "      <td>2016-12-20T19:53:17Z[GMT]</td>\n",
       "      <td>cn.eova</td>\n",
       "      <td>eova</td>\n",
       "      <td>1.6-beta1</td>\n",
       "      <td>2017-05-25T14:48:55Z[GMT]</td>\n",
       "    </tr>\n",
       "    <tr>\n",
       "      <th>1</th>\n",
       "      <td>org.slf4j</td>\n",
       "      <td>slf4j-api</td>\n",
       "      <td>1.6.1</td>\n",
       "      <td>2010-07-05T20:29:21Z[GMT]</td>\n",
       "      <td>org.slf4j</td>\n",
       "      <td>slf4j-api</td>\n",
       "      <td>1.6.2</td>\n",
       "      <td>2011-08-18T22:13:03Z[GMT]</td>\n",
       "      <td>org.sonatype.sisu</td>\n",
       "      <td>sisu-inject-bean</td>\n",
       "      <td>2.2.3</td>\n",
       "      <td>2011-06-08T20:18:37Z[GMT]</td>\n",
       "      <td>org.sonatype.sisu</td>\n",
       "      <td>sisu-inject-bean</td>\n",
       "      <td>2.3.0</td>\n",
       "      <td>2011-09-13T04:13:25Z[GMT]</td>\n",
       "    </tr>\n",
       "    <tr>\n",
       "      <th>2</th>\n",
       "      <td>org.slf4j</td>\n",
       "      <td>slf4j-api</td>\n",
       "      <td>1.6.1</td>\n",
       "      <td>2010-07-05T20:29:21Z[GMT]</td>\n",
       "      <td>org.slf4j</td>\n",
       "      <td>slf4j-api</td>\n",
       "      <td>1.6.2</td>\n",
       "      <td>2011-08-18T22:13:03Z[GMT]</td>\n",
       "      <td>org.sonatype.sisu</td>\n",
       "      <td>sisu-guice</td>\n",
       "      <td>3.0.3</td>\n",
       "      <td>2011-05-11T13:45:19Z[GMT]</td>\n",
       "      <td>org.sonatype.sisu</td>\n",
       "      <td>sisu-guice</td>\n",
       "      <td>3.1.0</td>\n",
       "      <td>2011-09-03T00:01:30Z[GMT]</td>\n",
       "    </tr>\n",
       "    <tr>\n",
       "      <th>3</th>\n",
       "      <td>org.slf4j</td>\n",
       "      <td>slf4j-api</td>\n",
       "      <td>1.6.1</td>\n",
       "      <td>2010-07-05T20:29:21Z[GMT]</td>\n",
       "      <td>org.slf4j</td>\n",
       "      <td>slf4j-api</td>\n",
       "      <td>1.6.2</td>\n",
       "      <td>2011-08-18T22:13:03Z[GMT]</td>\n",
       "      <td>org.sonatype.sisu.inject</td>\n",
       "      <td>guice-plexus-lifecycles</td>\n",
       "      <td>2.2.3</td>\n",
       "      <td>2011-06-08T20:22:49Z[GMT]</td>\n",
       "      <td>org.sonatype.sisu.inject</td>\n",
       "      <td>guice-plexus-lifecycles</td>\n",
       "      <td>2.3.0</td>\n",
       "      <td>2011-09-13T04:15:26Z[GMT]</td>\n",
       "    </tr>\n",
       "    <tr>\n",
       "      <th>4</th>\n",
       "      <td>org.slf4j</td>\n",
       "      <td>slf4j-api</td>\n",
       "      <td>1.6.1</td>\n",
       "      <td>2010-07-05T20:29:21Z[GMT]</td>\n",
       "      <td>org.slf4j</td>\n",
       "      <td>slf4j-api</td>\n",
       "      <td>1.6.2</td>\n",
       "      <td>2011-08-18T22:13:03Z[GMT]</td>\n",
       "      <td>org.sonatype.sisu.inject</td>\n",
       "      <td>guice-plexus-binders</td>\n",
       "      <td>2.2.3</td>\n",
       "      <td>2011-06-08T20:22:08Z[GMT]</td>\n",
       "      <td>org.sonatype.sisu.inject</td>\n",
       "      <td>guice-plexus-binders</td>\n",
       "      <td>2.3.0</td>\n",
       "      <td>2011-09-13T04:15:04Z[GMT]</td>\n",
       "    </tr>\n",
       "    <tr>\n",
       "      <th>...</th>\n",
       "      <td>...</td>\n",
       "      <td>...</td>\n",
       "      <td>...</td>\n",
       "      <td>...</td>\n",
       "      <td>...</td>\n",
       "      <td>...</td>\n",
       "      <td>...</td>\n",
       "      <td>...</td>\n",
       "      <td>...</td>\n",
       "      <td>...</td>\n",
       "      <td>...</td>\n",
       "      <td>...</td>\n",
       "      <td>...</td>\n",
       "      <td>...</td>\n",
       "      <td>...</td>\n",
       "      <td>...</td>\n",
       "    </tr>\n",
       "    <tr>\n",
       "      <th>12936</th>\n",
       "      <td>org.slf4j</td>\n",
       "      <td>slf4j-api</td>\n",
       "      <td>1.7.18</td>\n",
       "      <td>2016-02-26T18:51:08Z[GMT]</td>\n",
       "      <td>org.slf4j</td>\n",
       "      <td>slf4j-api</td>\n",
       "      <td>1.7.25</td>\n",
       "      <td>2017-03-16T16:36:32Z[GMT]</td>\n",
       "      <td>com.avides.spring</td>\n",
       "      <td>spring-enricher</td>\n",
       "      <td>1.0.1.RELEASE</td>\n",
       "      <td>2017-11-22T15:15:13Z[GMT]</td>\n",
       "      <td>com.avides.spring</td>\n",
       "      <td>spring-enricher</td>\n",
       "      <td>1.0.2.RELEASE</td>\n",
       "      <td>2017-11-27T00:27:09Z[GMT]</td>\n",
       "    </tr>\n",
       "    <tr>\n",
       "      <th>12937</th>\n",
       "      <td>org.slf4j</td>\n",
       "      <td>slf4j-api</td>\n",
       "      <td>1.7.+</td>\n",
       "      <td>2016-08-10T15:08:35Z[GMT]</td>\n",
       "      <td>org.slf4j</td>\n",
       "      <td>slf4j-api</td>\n",
       "      <td>1.7.7</td>\n",
       "      <td>2014-04-04T11:12:47Z[GMT]</td>\n",
       "      <td>org.nickelproject</td>\n",
       "      <td>nickel</td>\n",
       "      <td>0.0.4</td>\n",
       "      <td>2014-10-14T05:19:53Z[GMT]</td>\n",
       "      <td>org.nickelproject</td>\n",
       "      <td>nickel</td>\n",
       "      <td>0.0.5</td>\n",
       "      <td>2014-12-13T06:35:52Z[GMT]</td>\n",
       "    </tr>\n",
       "    <tr>\n",
       "      <th>12938</th>\n",
       "      <td>org.slf4j</td>\n",
       "      <td>slf4j-api</td>\n",
       "      <td>1.8.0-alpha0</td>\n",
       "      <td>2017-04-07T09:46:08Z[GMT]</td>\n",
       "      <td>org.slf4j</td>\n",
       "      <td>slf4j-api</td>\n",
       "      <td>1.8.0-alpha1</td>\n",
       "      <td>2017-04-13T13:43:50Z[GMT]</td>\n",
       "      <td>com.netflix.evcache</td>\n",
       "      <td>evcache-client</td>\n",
       "      <td>4.82.0</td>\n",
       "      <td>2017-04-12T17:45:26Z[GMT]</td>\n",
       "      <td>com.netflix.evcache</td>\n",
       "      <td>evcache-client</td>\n",
       "      <td>4.83.0</td>\n",
       "      <td>2017-04-14T02:22:43Z[GMT]</td>\n",
       "    </tr>\n",
       "    <tr>\n",
       "      <th>12939</th>\n",
       "      <td>org.slf4j</td>\n",
       "      <td>slf4j-api</td>\n",
       "      <td>1.8.0-alpha1</td>\n",
       "      <td>2017-04-13T13:43:50Z[GMT]</td>\n",
       "      <td>org.slf4j</td>\n",
       "      <td>slf4j-api</td>\n",
       "      <td>1.8.0-alpha2</td>\n",
       "      <td>2017-04-25T22:11:59Z[GMT]</td>\n",
       "      <td>com.netflix.falcor</td>\n",
       "      <td>falcor-model</td>\n",
       "      <td>0.80.0</td>\n",
       "      <td>2017-04-20T07:23:41Z[GMT]</td>\n",
       "      <td>com.netflix.falcor</td>\n",
       "      <td>falcor-model</td>\n",
       "      <td>0.81.0</td>\n",
       "      <td>2017-05-01T23:23:04Z[GMT]</td>\n",
       "    </tr>\n",
       "    <tr>\n",
       "      <th>12940</th>\n",
       "      <td>org.slf4j</td>\n",
       "      <td>slf4j-api</td>\n",
       "      <td>1.8.0-alpha1</td>\n",
       "      <td>2017-04-13T13:43:50Z[GMT]</td>\n",
       "      <td>org.slf4j</td>\n",
       "      <td>slf4j-api</td>\n",
       "      <td>1.8.0-alpha2</td>\n",
       "      <td>2017-04-25T22:11:59Z[GMT]</td>\n",
       "      <td>com.netflix.evcache</td>\n",
       "      <td>evcache-client</td>\n",
       "      <td>4.84.0</td>\n",
       "      <td>2017-04-24T21:42:02Z[GMT]</td>\n",
       "      <td>com.netflix.evcache</td>\n",
       "      <td>evcache-client</td>\n",
       "      <td>4.85.0</td>\n",
       "      <td>2017-05-08T20:17:06Z[GMT]</td>\n",
       "    </tr>\n",
       "  </tbody>\n",
       "</table>\n",
       "<p>12941 rows × 16 columns</p>\n",
       "</div>"
      ],
      "text/plain": [
       "      l1_group_id l1_artifact_id    l1_version            l1_release_date  \\\n",
       "0       org.slf4j      slf4j-api         1.6.1  2010-07-05T20:29:21Z[GMT]   \n",
       "1       org.slf4j      slf4j-api         1.6.1  2010-07-05T20:29:21Z[GMT]   \n",
       "2       org.slf4j      slf4j-api         1.6.1  2010-07-05T20:29:21Z[GMT]   \n",
       "3       org.slf4j      slf4j-api         1.6.1  2010-07-05T20:29:21Z[GMT]   \n",
       "4       org.slf4j      slf4j-api         1.6.1  2010-07-05T20:29:21Z[GMT]   \n",
       "...           ...            ...           ...                        ...   \n",
       "12936   org.slf4j      slf4j-api        1.7.18  2016-02-26T18:51:08Z[GMT]   \n",
       "12937   org.slf4j      slf4j-api         1.7.+  2016-08-10T15:08:35Z[GMT]   \n",
       "12938   org.slf4j      slf4j-api  1.8.0-alpha0  2017-04-07T09:46:08Z[GMT]   \n",
       "12939   org.slf4j      slf4j-api  1.8.0-alpha1  2017-04-13T13:43:50Z[GMT]   \n",
       "12940   org.slf4j      slf4j-api  1.8.0-alpha1  2017-04-13T13:43:50Z[GMT]   \n",
       "\n",
       "      l2_group_id l2_artifact_id    l2_version            l2_release_date  \\\n",
       "0       org.slf4j      slf4j-api         1.6.2  2011-08-18T22:13:03Z[GMT]   \n",
       "1       org.slf4j      slf4j-api         1.6.2  2011-08-18T22:13:03Z[GMT]   \n",
       "2       org.slf4j      slf4j-api         1.6.2  2011-08-18T22:13:03Z[GMT]   \n",
       "3       org.slf4j      slf4j-api         1.6.2  2011-08-18T22:13:03Z[GMT]   \n",
       "4       org.slf4j      slf4j-api         1.6.2  2011-08-18T22:13:03Z[GMT]   \n",
       "...           ...            ...           ...                        ...   \n",
       "12936   org.slf4j      slf4j-api        1.7.25  2017-03-16T16:36:32Z[GMT]   \n",
       "12937   org.slf4j      slf4j-api         1.7.7  2014-04-04T11:12:47Z[GMT]   \n",
       "12938   org.slf4j      slf4j-api  1.8.0-alpha1  2017-04-13T13:43:50Z[GMT]   \n",
       "12939   org.slf4j      slf4j-api  1.8.0-alpha2  2017-04-25T22:11:59Z[GMT]   \n",
       "12940   org.slf4j      slf4j-api  1.8.0-alpha2  2017-04-25T22:11:59Z[GMT]   \n",
       "\n",
       "                    c1_group_id           c1_artifact_id     c1_version  \\\n",
       "0                       cn.eova                     eova          1.5.0   \n",
       "1             org.sonatype.sisu         sisu-inject-bean          2.2.3   \n",
       "2             org.sonatype.sisu               sisu-guice          3.0.3   \n",
       "3      org.sonatype.sisu.inject  guice-plexus-lifecycles          2.2.3   \n",
       "4      org.sonatype.sisu.inject     guice-plexus-binders          2.2.3   \n",
       "...                         ...                      ...            ...   \n",
       "12936         com.avides.spring          spring-enricher  1.0.1.RELEASE   \n",
       "12937         org.nickelproject                   nickel          0.0.4   \n",
       "12938       com.netflix.evcache           evcache-client         4.82.0   \n",
       "12939        com.netflix.falcor             falcor-model         0.80.0   \n",
       "12940       com.netflix.evcache           evcache-client         4.84.0   \n",
       "\n",
       "                 c1_release_date               c2_group_id  \\\n",
       "0      2016-12-20T19:53:17Z[GMT]                   cn.eova   \n",
       "1      2011-06-08T20:18:37Z[GMT]         org.sonatype.sisu   \n",
       "2      2011-05-11T13:45:19Z[GMT]         org.sonatype.sisu   \n",
       "3      2011-06-08T20:22:49Z[GMT]  org.sonatype.sisu.inject   \n",
       "4      2011-06-08T20:22:08Z[GMT]  org.sonatype.sisu.inject   \n",
       "...                          ...                       ...   \n",
       "12936  2017-11-22T15:15:13Z[GMT]         com.avides.spring   \n",
       "12937  2014-10-14T05:19:53Z[GMT]         org.nickelproject   \n",
       "12938  2017-04-12T17:45:26Z[GMT]       com.netflix.evcache   \n",
       "12939  2017-04-20T07:23:41Z[GMT]        com.netflix.falcor   \n",
       "12940  2017-04-24T21:42:02Z[GMT]       com.netflix.evcache   \n",
       "\n",
       "                c2_artifact_id     c2_version            c2_release_date  \n",
       "0                         eova      1.6-beta1  2017-05-25T14:48:55Z[GMT]  \n",
       "1             sisu-inject-bean          2.3.0  2011-09-13T04:13:25Z[GMT]  \n",
       "2                   sisu-guice          3.1.0  2011-09-03T00:01:30Z[GMT]  \n",
       "3      guice-plexus-lifecycles          2.3.0  2011-09-13T04:15:26Z[GMT]  \n",
       "4         guice-plexus-binders          2.3.0  2011-09-13T04:15:04Z[GMT]  \n",
       "...                        ...            ...                        ...  \n",
       "12936          spring-enricher  1.0.2.RELEASE  2017-11-27T00:27:09Z[GMT]  \n",
       "12937                   nickel          0.0.5  2014-12-13T06:35:52Z[GMT]  \n",
       "12938           evcache-client         4.83.0  2017-04-14T02:22:43Z[GMT]  \n",
       "12939             falcor-model         0.81.0  2017-05-01T23:23:04Z[GMT]  \n",
       "12940           evcache-client         4.85.0  2017-05-08T20:17:06Z[GMT]  \n",
       "\n",
       "[12941 rows x 16 columns]"
      ]
     },
     "execution_count": 2,
     "metadata": {},
     "output_type": "execute_result"
    }
   ],
   "source": [
    "# Read dataset from CSV file\n",
    "df = pd.read_csv('../src/main/resources/slf4j-upgrades.csv')\n",
    "df"
   ]
  },
  {
   "cell_type": "markdown",
   "id": "79507399-4494-4c79-bc0b-a84d356e764a",
   "metadata": {},
   "source": [
    "## Clean Dataset"
   ]
  },
  {
   "cell_type": "markdown",
   "id": "cf49a690-709d-4baf-8fa8-cebd3f1cfde5",
   "metadata": {},
   "source": [
    "### Remove duplicate client upgrades\n",
    "This is a known issue in the MDG. We should get rid of these faulty cases to avoid inconsistencies."
   ]
  },
  {
   "cell_type": "code",
   "execution_count": 3,
   "id": "108ca032-3fde-4225-a46d-c4d283a7e93e",
   "metadata": {},
   "outputs": [
    {
     "name": "stdout",
     "output_type": "stream",
     "text": [
      "Client upgrades: 12941\n"
     ]
    }
   ],
   "source": [
    "# Client upgrades\n",
    "client_upgrades_all = df.loc[:, ['c1_group_id', 'c1_artifact_id', 'c1_version', 'c2_version']]\n",
    "len_cua = len(client_upgrades_all)\n",
    "print(f'Client upgrades: {len_cua}')"
   ]
  },
  {
   "cell_type": "code",
   "execution_count": 4,
   "id": "1124ab56-72d4-4954-ab78-9ea87bd1311c",
   "metadata": {},
   "outputs": [
    {
     "name": "stdout",
     "output_type": "stream",
     "text": [
      "Duplicate client upgrades: 401\n"
     ]
    }
   ],
   "source": [
    "# Duplicate client upgrades\n",
    "client_upgrades_dup = client_upgrades_all[client_upgrades_all.duplicated(keep=False)]\n",
    "len_cud = len(client_upgrades_dup)\n",
    "print(f'Duplicate client upgrades: {len_cud}')"
   ]
  },
  {
   "cell_type": "code",
   "execution_count": 5,
   "id": "c95ad3b1-c5a5-4471-9c4e-24de4373b458",
   "metadata": {},
   "outputs": [
    {
     "name": "stdout",
     "output_type": "stream",
     "text": [
      "Unique client upgrades: 12540\n"
     ]
    }
   ],
   "source": [
    "# Unique client upgrades\n",
    "client_upgrades = client_upgrades_all.merge(client_upgrades_dup, how='outer', indicator=True).loc[lambda x : x['_merge']=='left_only']\n",
    "len_cu = len(client_upgrades)\n",
    "print(f'Unique client upgrades: {len_cu}')"
   ]
  },
  {
   "cell_type": "code",
   "execution_count": 6,
   "id": "117a2298-052a-4b5b-9eb6-09663ea027bb",
   "metadata": {},
   "outputs": [],
   "source": [
    "# Sanity check: number of upgrades\n",
    "assert (len_cua - len_cud) == len_cu, f'The number of unique upgrades ({len_cu}) does not match expected value ({len_cua - len_cud})'"
   ]
  },
  {
   "cell_type": "code",
   "execution_count": 7,
   "id": "df018fcd-c8c1-4c00-9c9a-debccb4a7a3f",
   "metadata": {},
   "outputs": [],
   "source": [
    "# Remove duplicates from dataframe\n",
    "df = df.drop(client_upgrades_dup.index)"
   ]
  },
  {
   "cell_type": "markdown",
   "id": "243ee9a1-ed10-47cf-a574-5d52f7490c83",
   "metadata": {},
   "source": [
    "### Remove non-semver compliant library releases\n",
    "Just keep semver (semnatic versioning) compliant library releases--that is, releases that have the following version number $X.Y.Z-P$, where:\n",
    "- $X$ represents the **major** number;\n",
    "- $Y$ represents the **minor** number;\n",
    "- $Z$ represents the **patch** number (optional), and;\n",
    "- $P$ represents the **pre-release** label (optional)."
   ]
  },
  {
   "cell_type": "code",
   "execution_count": 8,
   "id": "4f0b7376-7888-4eff-887e-b7e64201ae56",
   "metadata": {},
   "outputs": [],
   "source": [
    "df.loc[:, ['l1_group_id', 'l1_artifact_id', 'l1_version', 'l2_version']].drop_duplicates().to_csv('../src/main/resources/c.csv')"
   ]
  },
  {
   "cell_type": "code",
   "execution_count": 9,
   "id": "223c930d-43da-412f-9f95-492d86b69212",
   "metadata": {},
   "outputs": [],
   "source": [
    "# Remove UserWarning\n",
    "warnings.filterwarnings('ignore')\n",
    "\n",
    "# Defining semver regex\n",
    "semver_regex = r'^\\d+\\.\\d+(\\.\\d+(-.+)?)?$'"
   ]
  },
  {
   "cell_type": "code",
   "execution_count": 10,
   "id": "eecca9d5-fc44-4385-b32e-8ce4d57556c4",
   "metadata": {},
   "outputs": [
    {
     "name": "stdout",
     "output_type": "stream",
     "text": [
      "Non-semver compliant upgrades: 35\n"
     ]
    }
   ],
   "source": [
    "# Non-semver compliant upgrades\n",
    "len_nscu = len(df[~df['l1_version'].str.contains(semver_regex)\n",
    "  | ~df['l2_version'].str.contains(semver_regex)])\n",
    "print(f'Non-semver compliant upgrades: {len_nscu}')"
   ]
  },
  {
   "cell_type": "code",
   "execution_count": 11,
   "id": "51f1309d-717b-42a3-987d-5cf847b7bb6a",
   "metadata": {},
   "outputs": [
    {
     "name": "stdout",
     "output_type": "stream",
     "text": [
      "Semver-compliant upgrades: 12505\n"
     ]
    }
   ],
   "source": [
    "# Semver-compliant upgrades\n",
    "len_scu = len(df[df['l1_version'].str.contains(semver_regex)\n",
    "  & df['l2_version'].str.contains(semver_regex)])\n",
    "print(f'Semver-compliant upgrades: {len_scu}')"
   ]
  },
  {
   "cell_type": "code",
   "execution_count": 12,
   "id": "a1d8be4c-0e5c-43dc-8374-1f3d86824a56",
   "metadata": {},
   "outputs": [],
   "source": [
    "# Sanity check\n",
    "assert (len(df) - len_nscu) == len_scu, f'The number of semver-compliant upgrades ({len_scu}) does not match expected value ({len(df) - len_nscu})'"
   ]
  },
  {
   "cell_type": "code",
   "execution_count": 13,
   "id": "08bc6d87-1e63-486b-999a-b0b9fd23979d",
   "metadata": {},
   "outputs": [],
   "source": [
    "# Remove non-semver compliant upgrades\n",
    "df = df[df['l1_version'].str.contains(semver_regex)\n",
    "  & df['l2_version'].str.contains(semver_regex)]"
   ]
  },
  {
   "cell_type": "markdown",
   "id": "3a571a25-4f94-48bb-b52b-1b11a186b81a",
   "metadata": {
    "tags": []
   },
   "source": [
    "## Write Dataset"
   ]
  },
  {
   "cell_type": "code",
   "execution_count": 14,
   "id": "0a55cb0f-28be-493c-9d85-3d0491988021",
   "metadata": {},
   "outputs": [],
   "source": [
    "# Write clean dataset in CSV file\n",
    "df.to_csv('../src/main/resources/clean-slf4j-upgrades.csv')"
   ]
  },
  {
   "cell_type": "code",
   "execution_count": 15,
   "id": "c230d31f-bd8e-4f2d-be22-bbabb765ff61",
   "metadata": {},
   "outputs": [
    {
     "data": {
      "text/html": [
       "<div>\n",
       "<style scoped>\n",
       "    .dataframe tbody tr th:only-of-type {\n",
       "        vertical-align: middle;\n",
       "    }\n",
       "\n",
       "    .dataframe tbody tr th {\n",
       "        vertical-align: top;\n",
       "    }\n",
       "\n",
       "    .dataframe thead th {\n",
       "        text-align: right;\n",
       "    }\n",
       "</style>\n",
       "<table border=\"1\" class=\"dataframe\">\n",
       "  <thead>\n",
       "    <tr style=\"text-align: right;\">\n",
       "      <th></th>\n",
       "      <th>c1_group_id</th>\n",
       "      <th>c1_artifact_id</th>\n",
       "    </tr>\n",
       "  </thead>\n",
       "  <tbody>\n",
       "    <tr>\n",
       "      <th>0</th>\n",
       "      <td>cn.eova</td>\n",
       "      <td>eova</td>\n",
       "    </tr>\n",
       "    <tr>\n",
       "      <th>1</th>\n",
       "      <td>org.sonatype.sisu</td>\n",
       "      <td>sisu-inject-bean</td>\n",
       "    </tr>\n",
       "    <tr>\n",
       "      <th>2</th>\n",
       "      <td>org.sonatype.sisu</td>\n",
       "      <td>sisu-guice</td>\n",
       "    </tr>\n",
       "    <tr>\n",
       "      <th>3</th>\n",
       "      <td>org.sonatype.sisu.inject</td>\n",
       "      <td>guice-plexus-lifecycles</td>\n",
       "    </tr>\n",
       "    <tr>\n",
       "      <th>4</th>\n",
       "      <td>org.sonatype.sisu.inject</td>\n",
       "      <td>guice-plexus-binders</td>\n",
       "    </tr>\n",
       "    <tr>\n",
       "      <th>...</th>\n",
       "      <td>...</td>\n",
       "      <td>...</td>\n",
       "    </tr>\n",
       "    <tr>\n",
       "      <th>12914</th>\n",
       "      <td>de.kaufhof</td>\n",
       "      <td>ha-jobs_2.11</td>\n",
       "    </tr>\n",
       "    <tr>\n",
       "      <th>12916</th>\n",
       "      <td>cz.cvut.kbss.jopa</td>\n",
       "      <td>jopa-api</td>\n",
       "    </tr>\n",
       "    <tr>\n",
       "      <th>12917</th>\n",
       "      <td>cz.cvut.kbss.jopa</td>\n",
       "      <td>jopa-all</td>\n",
       "    </tr>\n",
       "    <tr>\n",
       "      <th>12933</th>\n",
       "      <td>com.github.mike10004</td>\n",
       "      <td>xvfb-manager</td>\n",
       "    </tr>\n",
       "    <tr>\n",
       "      <th>12936</th>\n",
       "      <td>com.avides.spring</td>\n",
       "      <td>spring-enricher</td>\n",
       "    </tr>\n",
       "  </tbody>\n",
       "</table>\n",
       "<p>6667 rows × 2 columns</p>\n",
       "</div>"
      ],
      "text/plain": [
       "                    c1_group_id           c1_artifact_id\n",
       "0                       cn.eova                     eova\n",
       "1             org.sonatype.sisu         sisu-inject-bean\n",
       "2             org.sonatype.sisu               sisu-guice\n",
       "3      org.sonatype.sisu.inject  guice-plexus-lifecycles\n",
       "4      org.sonatype.sisu.inject     guice-plexus-binders\n",
       "...                         ...                      ...\n",
       "12914                de.kaufhof             ha-jobs_2.11\n",
       "12916         cz.cvut.kbss.jopa                 jopa-api\n",
       "12917         cz.cvut.kbss.jopa                 jopa-all\n",
       "12933      com.github.mike10004             xvfb-manager\n",
       "12936         com.avides.spring          spring-enricher\n",
       "\n",
       "[6667 rows x 2 columns]"
      ]
     },
     "execution_count": 15,
     "metadata": {},
     "output_type": "execute_result"
    }
   ],
   "source": [
    "# Unique clients\n",
    "df.loc[:, ['c1_group_id', 'c1_artifact_id']].drop_duplicates()"
   ]
  }
 ],
 "metadata": {
  "kernelspec": {
   "display_name": "Python 3 (ipykernel)",
   "language": "python",
   "name": "python3"
  },
  "language_info": {
   "codemirror_mode": {
    "name": "ipython",
    "version": 3
   },
   "file_extension": ".py",
   "mimetype": "text/x-python",
   "name": "python",
   "nbconvert_exporter": "python",
   "pygments_lexer": "ipython3",
   "version": "3.9.5"
  }
 },
 "nbformat": 4,
 "nbformat_minor": 5
}
