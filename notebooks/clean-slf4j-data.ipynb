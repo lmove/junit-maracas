{
 "cells": [
  {
   "cell_type": "markdown",
   "id": "0b4243ce-c8c6-4ef8-abde-15877d3fda22",
   "metadata": {
    "tags": []
   },
   "source": [
    "# Clean SLF4J Data"
   ]
  },
  {
   "cell_type": "code",
   "execution_count": 1,
   "id": "54a80ecf-be9b-466f-bb83-7c3d3a3f5b11",
   "metadata": {},
   "outputs": [],
   "source": [
    "import numpy as np\n",
    "import pandas as pd\n",
    "import warnings"
   ]
  },
  {
   "cell_type": "markdown",
   "id": "8bac164d-9871-44c4-9239-adcc09e8a20f",
   "metadata": {},
   "source": [
    "## Load Dataset\n",
    "We load the Maven co-upgrades dataset from a CSV file. The file must have the following headers:\n",
    "\n",
    "- **l_group_id:** group ID of the library.\n",
    "- **l_artifact_id:** artifact ID of the library.\n",
    "- **l_version1:** version of the old release of the library.\n",
    "- **l_version2:** version of the new release of the library.\n",
    "- **c_group_id:** group ID of the client.\n",
    "- **c_artifact_id:** artifact ID of the client.\n",
    "- **l_version1:** version of the old release of the client.\n",
    "- **l_version2:** version of the new release of the client.\n",
    "\n",
    "\n",
    "The file has been exported from the Neo4j Desktop app after executing the following cypher query:\n",
    "\n",
    "```\n",
    "MATCH (c1:Artifact)-[:DEPENDS_ON]->(l1:Artifact),\n",
    "    (l1:Artifact)-[:NEXT*]->(l2:Artifact),\n",
    "    (c2:Artifact)-[:DEPENDS_ON]->(l2:Artifact),\n",
    "    (c1:Artifact)-[:NEXT]->(c2:Artifact)\n",
    "WHERE l1.groupID = 'org.slf4j' \n",
    "    AND l1.artifact = 'slf4j-api'\n",
    "    AND c1.groupID <> l1.groupID\n",
    "RETURN DISTINCT l1.groupID as l_group_id, \n",
    "    l1.artifact as l_artifact_id,\n",
    "    l1.version as l_version1,\n",
    "    l2.version as l_version2,\n",
    "    c1.groupID as c_group_id,\n",
    "    c1.artifact as c_artifact_id,\n",
    "    c1.version as c_version1,\n",
    "    c2.version as c_version2\n",
    "```"
   ]
  },
  {
   "cell_type": "code",
   "execution_count": 2,
   "id": "47814c48-b6d7-4dfc-9628-b4d4d6ceb670",
   "metadata": {},
   "outputs": [
    {
     "data": {
      "text/html": [
       "<div>\n",
       "<style scoped>\n",
       "    .dataframe tbody tr th:only-of-type {\n",
       "        vertical-align: middle;\n",
       "    }\n",
       "\n",
       "    .dataframe tbody tr th {\n",
       "        vertical-align: top;\n",
       "    }\n",
       "\n",
       "    .dataframe thead th {\n",
       "        text-align: right;\n",
       "    }\n",
       "</style>\n",
       "<table border=\"1\" class=\"dataframe\">\n",
       "  <thead>\n",
       "    <tr style=\"text-align: right;\">\n",
       "      <th></th>\n",
       "      <th>l_group_id</th>\n",
       "      <th>l_artifact_id</th>\n",
       "      <th>l_version1</th>\n",
       "      <th>l_version2</th>\n",
       "      <th>c_group_id</th>\n",
       "      <th>c_artifact_id</th>\n",
       "      <th>c_version1</th>\n",
       "      <th>c_version2</th>\n",
       "    </tr>\n",
       "  </thead>\n",
       "  <tbody>\n",
       "    <tr>\n",
       "      <th>0</th>\n",
       "      <td>org.slf4j</td>\n",
       "      <td>slf4j-api</td>\n",
       "      <td>1.6.1</td>\n",
       "      <td>1.6.2</td>\n",
       "      <td>cn.eova</td>\n",
       "      <td>eova</td>\n",
       "      <td>1.5.0</td>\n",
       "      <td>1.6-beta1</td>\n",
       "    </tr>\n",
       "    <tr>\n",
       "      <th>1</th>\n",
       "      <td>org.slf4j</td>\n",
       "      <td>slf4j-api</td>\n",
       "      <td>1.6.1</td>\n",
       "      <td>1.6.2</td>\n",
       "      <td>org.sonatype.sisu</td>\n",
       "      <td>sisu-inject-bean</td>\n",
       "      <td>2.2.3</td>\n",
       "      <td>2.3.0</td>\n",
       "    </tr>\n",
       "    <tr>\n",
       "      <th>2</th>\n",
       "      <td>org.slf4j</td>\n",
       "      <td>slf4j-api</td>\n",
       "      <td>1.6.1</td>\n",
       "      <td>1.6.2</td>\n",
       "      <td>org.sonatype.sisu</td>\n",
       "      <td>sisu-guice</td>\n",
       "      <td>3.0.3</td>\n",
       "      <td>3.1.0</td>\n",
       "    </tr>\n",
       "    <tr>\n",
       "      <th>3</th>\n",
       "      <td>org.slf4j</td>\n",
       "      <td>slf4j-api</td>\n",
       "      <td>1.6.1</td>\n",
       "      <td>1.6.2</td>\n",
       "      <td>org.sonatype.sisu.inject</td>\n",
       "      <td>guice-plexus-lifecycles</td>\n",
       "      <td>2.2.3</td>\n",
       "      <td>2.3.0</td>\n",
       "    </tr>\n",
       "    <tr>\n",
       "      <th>4</th>\n",
       "      <td>org.slf4j</td>\n",
       "      <td>slf4j-api</td>\n",
       "      <td>1.6.1</td>\n",
       "      <td>1.6.2</td>\n",
       "      <td>org.sonatype.sisu.inject</td>\n",
       "      <td>guice-plexus-binders</td>\n",
       "      <td>2.2.3</td>\n",
       "      <td>2.3.0</td>\n",
       "    </tr>\n",
       "    <tr>\n",
       "      <th>...</th>\n",
       "      <td>...</td>\n",
       "      <td>...</td>\n",
       "      <td>...</td>\n",
       "      <td>...</td>\n",
       "      <td>...</td>\n",
       "      <td>...</td>\n",
       "      <td>...</td>\n",
       "      <td>...</td>\n",
       "    </tr>\n",
       "    <tr>\n",
       "      <th>12936</th>\n",
       "      <td>org.slf4j</td>\n",
       "      <td>slf4j-api</td>\n",
       "      <td>1.7.18</td>\n",
       "      <td>1.7.25</td>\n",
       "      <td>com.avides.spring</td>\n",
       "      <td>spring-enricher</td>\n",
       "      <td>1.0.1.RELEASE</td>\n",
       "      <td>1.0.2.RELEASE</td>\n",
       "    </tr>\n",
       "    <tr>\n",
       "      <th>12937</th>\n",
       "      <td>org.slf4j</td>\n",
       "      <td>slf4j-api</td>\n",
       "      <td>1.7.+</td>\n",
       "      <td>1.7.7</td>\n",
       "      <td>org.nickelproject</td>\n",
       "      <td>nickel</td>\n",
       "      <td>0.0.4</td>\n",
       "      <td>0.0.5</td>\n",
       "    </tr>\n",
       "    <tr>\n",
       "      <th>12938</th>\n",
       "      <td>org.slf4j</td>\n",
       "      <td>slf4j-api</td>\n",
       "      <td>1.8.0-alpha0</td>\n",
       "      <td>1.8.0-alpha1</td>\n",
       "      <td>com.netflix.evcache</td>\n",
       "      <td>evcache-client</td>\n",
       "      <td>4.82.0</td>\n",
       "      <td>4.83.0</td>\n",
       "    </tr>\n",
       "    <tr>\n",
       "      <th>12939</th>\n",
       "      <td>org.slf4j</td>\n",
       "      <td>slf4j-api</td>\n",
       "      <td>1.8.0-alpha1</td>\n",
       "      <td>1.8.0-alpha2</td>\n",
       "      <td>com.netflix.falcor</td>\n",
       "      <td>falcor-model</td>\n",
       "      <td>0.80.0</td>\n",
       "      <td>0.81.0</td>\n",
       "    </tr>\n",
       "    <tr>\n",
       "      <th>12940</th>\n",
       "      <td>org.slf4j</td>\n",
       "      <td>slf4j-api</td>\n",
       "      <td>1.8.0-alpha1</td>\n",
       "      <td>1.8.0-alpha2</td>\n",
       "      <td>com.netflix.evcache</td>\n",
       "      <td>evcache-client</td>\n",
       "      <td>4.84.0</td>\n",
       "      <td>4.85.0</td>\n",
       "    </tr>\n",
       "  </tbody>\n",
       "</table>\n",
       "<p>12941 rows × 8 columns</p>\n",
       "</div>"
      ],
      "text/plain": [
       "      l_group_id l_artifact_id    l_version1    l_version2  \\\n",
       "0      org.slf4j     slf4j-api         1.6.1         1.6.2   \n",
       "1      org.slf4j     slf4j-api         1.6.1         1.6.2   \n",
       "2      org.slf4j     slf4j-api         1.6.1         1.6.2   \n",
       "3      org.slf4j     slf4j-api         1.6.1         1.6.2   \n",
       "4      org.slf4j     slf4j-api         1.6.1         1.6.2   \n",
       "...          ...           ...           ...           ...   \n",
       "12936  org.slf4j     slf4j-api        1.7.18        1.7.25   \n",
       "12937  org.slf4j     slf4j-api         1.7.+         1.7.7   \n",
       "12938  org.slf4j     slf4j-api  1.8.0-alpha0  1.8.0-alpha1   \n",
       "12939  org.slf4j     slf4j-api  1.8.0-alpha1  1.8.0-alpha2   \n",
       "12940  org.slf4j     slf4j-api  1.8.0-alpha1  1.8.0-alpha2   \n",
       "\n",
       "                     c_group_id            c_artifact_id     c_version1  \\\n",
       "0                       cn.eova                     eova          1.5.0   \n",
       "1             org.sonatype.sisu         sisu-inject-bean          2.2.3   \n",
       "2             org.sonatype.sisu               sisu-guice          3.0.3   \n",
       "3      org.sonatype.sisu.inject  guice-plexus-lifecycles          2.2.3   \n",
       "4      org.sonatype.sisu.inject     guice-plexus-binders          2.2.3   \n",
       "...                         ...                      ...            ...   \n",
       "12936         com.avides.spring          spring-enricher  1.0.1.RELEASE   \n",
       "12937         org.nickelproject                   nickel          0.0.4   \n",
       "12938       com.netflix.evcache           evcache-client         4.82.0   \n",
       "12939        com.netflix.falcor             falcor-model         0.80.0   \n",
       "12940       com.netflix.evcache           evcache-client         4.84.0   \n",
       "\n",
       "          c_version2  \n",
       "0          1.6-beta1  \n",
       "1              2.3.0  \n",
       "2              3.1.0  \n",
       "3              2.3.0  \n",
       "4              2.3.0  \n",
       "...              ...  \n",
       "12936  1.0.2.RELEASE  \n",
       "12937          0.0.5  \n",
       "12938         4.83.0  \n",
       "12939         0.81.0  \n",
       "12940         4.85.0  \n",
       "\n",
       "[12941 rows x 8 columns]"
      ]
     },
     "execution_count": 2,
     "metadata": {},
     "output_type": "execute_result"
    }
   ],
   "source": [
    "# Read dataset from CSV file\n",
    "df = pd.read_csv('../src/main/resources/slf4j-coupgrades.csv')\n",
    "df"
   ]
  },
  {
   "cell_type": "markdown",
   "id": "79507399-4494-4c79-bc0b-a84d356e764a",
   "metadata": {},
   "source": [
    "## Clean Dataset"
   ]
  },
  {
   "cell_type": "markdown",
   "id": "cf49a690-709d-4baf-8fa8-cebd3f1cfde5",
   "metadata": {},
   "source": [
    "### Remove duplicate client upgrades\n",
    "This is a known issue in the MDG. We should get rid of these faulty cases to avoid inconsistencies."
   ]
  },
  {
   "cell_type": "code",
   "execution_count": 3,
   "id": "108ca032-3fde-4225-a46d-c4d283a7e93e",
   "metadata": {},
   "outputs": [
    {
     "name": "stdout",
     "output_type": "stream",
     "text": [
      "Client upgrades: 12941\n"
     ]
    }
   ],
   "source": [
    "# Client upgrades\n",
    "client_upgrades_all = df.loc[:, ['c_group_id', 'c_artifact_id', 'c_version1', 'c_version2']]\n",
    "len_cua = len(client_upgrades_all)\n",
    "print(f'Client upgrades: {len_cua}')"
   ]
  },
  {
   "cell_type": "code",
   "execution_count": 4,
   "id": "1124ab56-72d4-4954-ab78-9ea87bd1311c",
   "metadata": {},
   "outputs": [
    {
     "name": "stdout",
     "output_type": "stream",
     "text": [
      "Duplicate client upgrades: 401\n"
     ]
    }
   ],
   "source": [
    "# Duplicate client upgrades\n",
    "client_upgrades_dup = client_upgrades_all[client_upgrades_all.duplicated(keep=False)]\n",
    "len_cud = len(client_upgrades_dup)\n",
    "print(f'Duplicate client upgrades: {len_cud}')"
   ]
  },
  {
   "cell_type": "code",
   "execution_count": 5,
   "id": "c95ad3b1-c5a5-4471-9c4e-24de4373b458",
   "metadata": {},
   "outputs": [
    {
     "name": "stdout",
     "output_type": "stream",
     "text": [
      "Unique client upgrades: 12540\n"
     ]
    }
   ],
   "source": [
    "# Unique client upgrades\n",
    "client_upgrades = client_upgrades_all.merge(client_upgrades_dup, how='outer', indicator=True).loc[lambda x : x['_merge']=='left_only']\n",
    "len_cu = len(client_upgrades)\n",
    "print(f'Unique client upgrades: {len_cu}')"
   ]
  },
  {
   "cell_type": "code",
   "execution_count": 6,
   "id": "117a2298-052a-4b5b-9eb6-09663ea027bb",
   "metadata": {},
   "outputs": [],
   "source": [
    "# Sanity check: number of upgrades\n",
    "assert (len_cua - len_cud) == len_cu, f'The number of unique upgrades ({len_cu}) does not match expected value ({len_cua - len_cud})'"
   ]
  },
  {
   "cell_type": "code",
   "execution_count": 7,
   "id": "df018fcd-c8c1-4c00-9c9a-debccb4a7a3f",
   "metadata": {},
   "outputs": [],
   "source": [
    "# Remove duplicates from dataframe\n",
    "df = df.drop(client_upgrades_dup.index)"
   ]
  },
  {
   "cell_type": "markdown",
   "id": "243ee9a1-ed10-47cf-a574-5d52f7490c83",
   "metadata": {},
   "source": [
    "### Remove non-semver compliant library releases\n",
    "Just keep semver (semnatic versioning) compliant library releases--that is, releases that have the following version number $X.Y.Z-P$, where:\n",
    "- $X$ represents the **major** number;\n",
    "- $Y$ represents the **minor** number (optional);\n",
    "- $Z$ represents the **patch** number (optional), and;\n",
    "- $P$ represents the **pre-release** label (optional)."
   ]
  },
  {
   "cell_type": "code",
   "execution_count": 8,
   "id": "4f0b7376-7888-4eff-887e-b7e64201ae56",
   "metadata": {},
   "outputs": [],
   "source": [
    "df.loc[:, ['l_group_id', 'l_artifact_id', 'l_version1', 'l_version2']].drop_duplicates().to_csv('../src/main/resources/c.csv')"
   ]
  },
  {
   "cell_type": "code",
   "execution_count": 9,
   "id": "223c930d-43da-412f-9f95-492d86b69212",
   "metadata": {},
   "outputs": [],
   "source": [
    "# Remove UserWarning\n",
    "warnings.filterwarnings('ignore')\n",
    "\n",
    "# Defining semver regex\n",
    "semver_regex = r'^\\d+(\\.\\d+(\\.\\d+(-.+)?)?)?$'"
   ]
  },
  {
   "cell_type": "code",
   "execution_count": 10,
   "id": "eecca9d5-fc44-4385-b32e-8ce4d57556c4",
   "metadata": {},
   "outputs": [
    {
     "name": "stdout",
     "output_type": "stream",
     "text": [
      "Non-semver compliant upgrades: 35\n"
     ]
    }
   ],
   "source": [
    "# Non-semver compliant upgrades\n",
    "len_nscu = len(df[~df['l_version1'].str.contains(semver_regex)\n",
    "  | ~df['l_version2'].str.contains(semver_regex)])\n",
    "print(f'Non-semver compliant upgrades: {len_nscu}')"
   ]
  },
  {
   "cell_type": "code",
   "execution_count": 11,
   "id": "51f1309d-717b-42a3-987d-5cf847b7bb6a",
   "metadata": {},
   "outputs": [
    {
     "name": "stdout",
     "output_type": "stream",
     "text": [
      "Semver-compliant upgrades: 12505\n"
     ]
    }
   ],
   "source": [
    "# Semver-compliant upgrades\n",
    "len_scu = len(df[df['l_version1'].str.contains(semver_regex)\n",
    "  & df['l_version2'].str.contains(semver_regex)])\n",
    "print(f'Semver-compliant upgrades: {len_scu}')"
   ]
  },
  {
   "cell_type": "code",
   "execution_count": 12,
   "id": "a1d8be4c-0e5c-43dc-8374-1f3d86824a56",
   "metadata": {},
   "outputs": [],
   "source": [
    "# Sanity check\n",
    "assert (len(df) - len_nscu) == len_scu, f'The number of semver-compliant upgrades ({len_scu}) does not match expected value ({len(df) - len_nscu})'"
   ]
  },
  {
   "cell_type": "code",
   "execution_count": 13,
   "id": "08bc6d87-1e63-486b-999a-b0b9fd23979d",
   "metadata": {},
   "outputs": [],
   "source": [
    "# Remove non-semver compliant upgrades\n",
    "df = df[df['l_version1'].str.contains(semver_regex)\n",
    "  & df['l_version2'].str.contains(semver_regex)]"
   ]
  },
  {
   "cell_type": "markdown",
   "id": "3a571a25-4f94-48bb-b52b-1b11a186b81a",
   "metadata": {
    "tags": []
   },
   "source": [
    "## Write Dataset"
   ]
  },
  {
   "cell_type": "code",
   "execution_count": 14,
   "id": "0a55cb0f-28be-493c-9d85-3d0491988021",
   "metadata": {},
   "outputs": [],
   "source": [
    "# Write clean dataset in CSV file\n",
    "df.to_csv('../src/main/resources/clean-slf4j-coupgrades.csv')"
   ]
  },
  {
   "cell_type": "code",
   "execution_count": 15,
   "id": "c230d31f-bd8e-4f2d-be22-bbabb765ff61",
   "metadata": {},
   "outputs": [
    {
     "data": {
      "text/html": [
       "<div>\n",
       "<style scoped>\n",
       "    .dataframe tbody tr th:only-of-type {\n",
       "        vertical-align: middle;\n",
       "    }\n",
       "\n",
       "    .dataframe tbody tr th {\n",
       "        vertical-align: top;\n",
       "    }\n",
       "\n",
       "    .dataframe thead th {\n",
       "        text-align: right;\n",
       "    }\n",
       "</style>\n",
       "<table border=\"1\" class=\"dataframe\">\n",
       "  <thead>\n",
       "    <tr style=\"text-align: right;\">\n",
       "      <th></th>\n",
       "      <th>c_group_id</th>\n",
       "      <th>c_artifact_id</th>\n",
       "    </tr>\n",
       "  </thead>\n",
       "  <tbody>\n",
       "    <tr>\n",
       "      <th>0</th>\n",
       "      <td>cn.eova</td>\n",
       "      <td>eova</td>\n",
       "    </tr>\n",
       "    <tr>\n",
       "      <th>1</th>\n",
       "      <td>org.sonatype.sisu</td>\n",
       "      <td>sisu-inject-bean</td>\n",
       "    </tr>\n",
       "    <tr>\n",
       "      <th>2</th>\n",
       "      <td>org.sonatype.sisu</td>\n",
       "      <td>sisu-guice</td>\n",
       "    </tr>\n",
       "    <tr>\n",
       "      <th>3</th>\n",
       "      <td>org.sonatype.sisu.inject</td>\n",
       "      <td>guice-plexus-lifecycles</td>\n",
       "    </tr>\n",
       "    <tr>\n",
       "      <th>4</th>\n",
       "      <td>org.sonatype.sisu.inject</td>\n",
       "      <td>guice-plexus-binders</td>\n",
       "    </tr>\n",
       "    <tr>\n",
       "      <th>...</th>\n",
       "      <td>...</td>\n",
       "      <td>...</td>\n",
       "    </tr>\n",
       "    <tr>\n",
       "      <th>12914</th>\n",
       "      <td>de.kaufhof</td>\n",
       "      <td>ha-jobs_2.11</td>\n",
       "    </tr>\n",
       "    <tr>\n",
       "      <th>12916</th>\n",
       "      <td>cz.cvut.kbss.jopa</td>\n",
       "      <td>jopa-api</td>\n",
       "    </tr>\n",
       "    <tr>\n",
       "      <th>12917</th>\n",
       "      <td>cz.cvut.kbss.jopa</td>\n",
       "      <td>jopa-all</td>\n",
       "    </tr>\n",
       "    <tr>\n",
       "      <th>12933</th>\n",
       "      <td>com.github.mike10004</td>\n",
       "      <td>xvfb-manager</td>\n",
       "    </tr>\n",
       "    <tr>\n",
       "      <th>12936</th>\n",
       "      <td>com.avides.spring</td>\n",
       "      <td>spring-enricher</td>\n",
       "    </tr>\n",
       "  </tbody>\n",
       "</table>\n",
       "<p>6667 rows × 2 columns</p>\n",
       "</div>"
      ],
      "text/plain": [
       "                     c_group_id            c_artifact_id\n",
       "0                       cn.eova                     eova\n",
       "1             org.sonatype.sisu         sisu-inject-bean\n",
       "2             org.sonatype.sisu               sisu-guice\n",
       "3      org.sonatype.sisu.inject  guice-plexus-lifecycles\n",
       "4      org.sonatype.sisu.inject     guice-plexus-binders\n",
       "...                         ...                      ...\n",
       "12914                de.kaufhof             ha-jobs_2.11\n",
       "12916         cz.cvut.kbss.jopa                 jopa-api\n",
       "12917         cz.cvut.kbss.jopa                 jopa-all\n",
       "12933      com.github.mike10004             xvfb-manager\n",
       "12936         com.avides.spring          spring-enricher\n",
       "\n",
       "[6667 rows x 2 columns]"
      ]
     },
     "execution_count": 15,
     "metadata": {},
     "output_type": "execute_result"
    }
   ],
   "source": [
    "# Unique clients\n",
    "df.loc[:, ['c_group_id', 'c_artifact_id']].drop_duplicates()"
   ]
  }
 ],
 "metadata": {
  "kernelspec": {
   "display_name": "Python 3 (ipykernel)",
   "language": "python",
   "name": "python3"
  },
  "language_info": {
   "codemirror_mode": {
    "name": "ipython",
    "version": 3
   },
   "file_extension": ".py",
   "mimetype": "text/x-python",
   "name": "python",
   "nbconvert_exporter": "python",
   "pygments_lexer": "ipython3",
   "version": "3.9.5"
  }
 },
 "nbformat": 4,
 "nbformat_minor": 5
}
